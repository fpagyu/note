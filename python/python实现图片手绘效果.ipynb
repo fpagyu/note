{
 "cells": [
  {
   "cell_type": "code",
   "execution_count": 22,
   "metadata": {},
   "outputs": [],
   "source": [
    "from PIL import Image\n",
    "import numpy as np\n",
    "\n",
    "a = np.asarray(Image.open(r'/home/jvm/Desktop/100621376.jpg').convert('L')).astype('float')\n",
    "\n",
    "depth = 10.  # (0-100)\n",
    "grad = np.gradient(a)  # 取图像灰度的梯度值\n",
    "grad_x, grad_y = grad  # 分别取横纵图像梯度值\n",
    "grad_x = grad_x * depth / 100.\n",
    "grad_y = grad_y * depth / 100.\n",
    "A = np.sqrt(grad_x ** 2 + grad_y ** 2 + 1.)\n",
    "uni_x = grad_x / A\n",
    "uni_y = grad_y / A\n",
    "uni_z = 1. / A\n",
    "\n",
    "vec_el = np.pi / 2.2  # 光源的俯视角度，弧度值\n",
    "vec_az = np.pi / 4.  # 光源的方位角度，弧度值\n",
    "dx = np.cos(vec_el) * np.cos(vec_az)  # 光源对x 轴的影响\n",
    "dy = np.cos(vec_el) * np.sin(vec_az)  # 光源对y 轴的影响\n",
    "dz = np.sin(vec_el)  # 光源对z 轴的影响\n",
    "\n",
    "b = 255 * (dx * uni_x + dy * uni_y + dz * uni_z)  # 光源归一化\n",
    "b = b.clip(0, 255)\n",
    "\n",
    "im = Image.fromarray(b.astype('uint8'))  # 重构图像\n",
    "# im.save(r'/home/jvm/Desktop/wall4.jpg')\n",
    "# im = im.resize((int(im.width/2),int(im.height/2)),Image.BILINEAR)\n",
    "im.show()"
   ]
  },
  {
   "cell_type": "code",
   "execution_count": null,
   "metadata": {},
   "outputs": [],
   "source": []
  }
 ],
 "metadata": {
  "kernelspec": {
   "display_name": "Python 3",
   "language": "python",
   "name": "python3"
  },
  "language_info": {
   "codemirror_mode": {
    "name": "ipython",
    "version": 3
   },
   "file_extension": ".py",
   "mimetype": "text/x-python",
   "name": "python",
   "nbconvert_exporter": "python",
   "pygments_lexer": "ipython3",
   "version": "3.6.8"
  }
 },
 "nbformat": 4,
 "nbformat_minor": 2
}
